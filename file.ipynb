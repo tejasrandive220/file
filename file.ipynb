{
 "cells": [
  {
   "cell_type": "code",
   "execution_count": 31,
   "id": "30093107-0fd5-4746-9ab1-1b7d89f18ac9",
   "metadata": {},
   "outputs": [
    {
     "name": "stdout",
     "output_type": "stream",
     "text": [
      "Tejas_randive!\n",
      "sahil_gavade!\n",
      "sahil_gavade!\n"
     ]
    }
   ],
   "source": [
    "def func(name=\"Tejas\",last_name=\"randive\"):\n",
    "    return f\"{name}_{last_name}!\"\n",
    "func()    \n",
    "print(func(\"Tejas\"))\n",
    "print(func(\"sahil\",\"gavade\"))\n",
    "print(func(last_name=\"gavade\",name=\"sahil\"))"
   ]
  },
  {
   "cell_type": "code",
   "execution_count": 37,
   "id": "a4f01c34-240c-4b45-8fee-e911c8820412",
   "metadata": {},
   "outputs": [],
   "source": [
    "def func2(**kwargs):\n",
    "    for key,value in kwargs.items():\n",
    "     print(f\"{key}:{value}\")\n",
    "    func2(name=\"tejas\",age=20,city=\"kolhapur\")"
   ]
  },
  {
   "cell_type": "code",
   "execution_count": 32,
   "id": "77974f96-f9d1-4ab4-8a4c-d3806ab1a11d",
   "metadata": {},
   "outputs": [
    {
     "name": "stdout",
     "output_type": "stream",
     "text": [
      "ram ram!\n"
     ]
    }
   ],
   "source": [
    "f1=open('example.txt','w')\n",
    "f1.write(\"ram ram!\")\n",
    "f1=open('example.txt','r')\n",
    "print(f1.read())"
   ]
  },
  {
   "cell_type": "code",
   "execution_count": 29,
   "id": "5e331023-87c7-49a9-a0d0-fa157cedb099",
   "metadata": {},
   "outputs": [
    {
     "name": "stdout",
     "output_type": "stream",
     "text": [
      "read entire file:\n",
      "hello everyone\n",
      "\n"
     ]
    }
   ],
   "source": [
    "with open ('raj.txt','r')as file:\n",
    "    content=file.read()\n",
    "    print(\"read entire file:\")\n",
    "    file.seek(0)\n",
    "    print(content)"
   ]
  },
  {
   "cell_type": "code",
   "execution_count": 30,
   "id": "dfd8e053-2f80-482a-9b70-72a34033a583",
   "metadata": {},
   "outputs": [
    {
     "name": "stdout",
     "output_type": "stream",
     "text": [
      "data appended to file\n"
     ]
    }
   ],
   "source": [
    "with open('raj.txt','a')as file:\n",
    "    file.write(\"good morning.\\n\")\n",
    "    print(\"data appended to file\")\n",
    "    "
   ]
  },
  {
   "cell_type": "code",
   "execution_count": 49,
   "id": "42d828f4-d6a1-4af0-8d95-1f64bad6a493",
   "metadata": {},
   "outputs": [
    {
     "name": "stdout",
     "output_type": "stream",
     "text": [
      "name:tejas\n",
      "age:20\n",
      "city:kolhapur\n"
     ]
    }
   ],
   "source": [
    "def func2(**kwargs):\n",
    "    for key,value in kwargs.items():\n",
    "        print(f\"{key}:{value}\")\n",
    "func2(name=\"tejas\",age=20,city=\"kolhapur\")"
   ]
  },
  {
   "cell_type": "code",
   "execution_count": 60,
   "id": "1d0b9d26-9c26-4048-a702-b52d404335a8",
   "metadata": {},
   "outputs": [
    {
     "name": "stdout",
     "output_type": "stream",
     "text": [
      "0\n",
      "5\n"
     ]
    }
   ],
   "source": [
    "with open ('raj.txt','r')as file:\n",
    "    print(file.tell())\n",
    "    file.read(0)\n",
    "    file.read(5)\n",
    "    print(file.tell())\n"
   ]
  },
  {
   "cell_type": "code",
   "execution_count": 62,
   "id": "5f9a3169-153a-4c87-853b-2b9b342f7968",
   "metadata": {},
   "outputs": [
    {
     "name": "stdout",
     "output_type": "stream",
     "text": [
      "hello everyone\n",
      "good morning.\n"
     ]
    }
   ],
   "source": [
    "with open ('raj.txt','r')as file:\n",
    "    for line in file:\n",
    "        print(line,end=\"\")\n",
    "       "
   ]
  },
  {
   "cell_type": "code",
   "execution_count": null,
   "id": "de48bd0d-0a0c-49ca-ae1b-8ed6bec11a01",
   "metadata": {},
   "outputs": [],
   "source": []
  }
 ],
 "metadata": {
  "kernelspec": {
   "display_name": "Python 3 (ipykernel)",
   "language": "python",
   "name": "python3"
  },
  "language_info": {
   "codemirror_mode": {
    "name": "ipython",
    "version": 3
   },
   "file_extension": ".py",
   "mimetype": "text/x-python",
   "name": "python",
   "nbconvert_exporter": "python",
   "pygments_lexer": "ipython3",
   "version": "3.12.4"
  }
 },
 "nbformat": 4,
 "nbformat_minor": 5
}
